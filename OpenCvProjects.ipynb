{
 "cells": [
  {
   "cell_type": "code",
   "execution_count": 1,
   "metadata": {},
   "outputs": [],
   "source": [
    "import cv2 as cv\n",
    "import numpy as np \n",
    "import matplotlib.pyplot as plt\n",
    "import warnings\n",
    "import os"
   ]
  },
  {
   "cell_type": "code",
   "execution_count": 2,
   "metadata": {},
   "outputs": [],
   "source": [
    "def rescaler(img, scale=0.5):\n",
    "    w, h = int(img.shape[1] * scale), int(img.shape[0] * scale)\n",
    "    dim = (w , h)\n",
    "    return cv.resize(img, dim, interpolation=cv.INTER_AREA)\n"
   ]
  },
  {
   "cell_type": "code",
   "execution_count": 3,
   "metadata": {},
   "outputs": [],
   "source": [
    "live = cv.VideoCapture(0)\n",
    "live.set(3, 1250)\n",
    "live.set(4, 750)\n",
    "\n",
    "while True:\n",
    "    isTrue, frame = live.read()\n",
    "    cv.imshow(\"live Video\", frame)\n",
    "\n",
    "    if cv.waitKey(20) & 0xFF==ord('q'):\n",
    "        break\n",
    "\n",
    "live.release()\n",
    "cv.destroyAllWindows()"
   ]
  },
  {
   "cell_type": "code",
   "execution_count": 4,
   "metadata": {},
   "outputs": [],
   "source": [
    "image = cv.imread(\"./index.jpeg\")\n",
    "\n",
    "\n",
    "warp_affine = cv.warpAffine(image, np.float32([[1,0, 90], [0,1, 20]]), (image.shape[1], image.shape[0]))\n",
    "flipped = cv.flip(image, 1)\n",
    "resize = cv.resize(image, (900, 700), interpolation=cv.INTER_LINEAR)\n",
    "\n",
    "cv.imshow(\"Original Image\",image)\n",
    "cv.imshow(\"Resized Image\",resize)\n",
    "cv.imshow(\"shifted Image\",warp_affine)\n",
    "cv.imshow(\"Flipped Image\",flipped)\n",
    "cv.waitKey()\n",
    "cv.destroyAllWindows()\n"
   ]
  },
  {
   "cell_type": "code",
   "execution_count": 5,
   "metadata": {},
   "outputs": [
    {
     "data": {
      "image/png": "[encoded data removed]",
      "text/plain": [
       "<Figure size 432x288 with 1 Axes>"
      ]
     },
     "metadata": {
      "needs_background": "light"
     },
     "output_type": "display_data"
    }
   ],
   "source": [
    "image  = cv.imread(\"./peets.jpg\")\n",
    "gray = cv.cvtColor(image, cv.COLOR_BGR2GRAY)\n",
    "blank = np.zeros(gray.shape[:2], dtype=\"uint8\")\n",
    "\n",
    "circle = cv.circle(blank, (blank.shape[1]//2, blank.shape[0]//2), 200, 255, -1, 2)\n",
    "mask = cv.bitwise_and(gray, gray, mask= circle)\n",
    "# cv.imshow(\"Mask image\", mask)\n",
    "hist = cv.calcHist([gray], [0], mask, [456], [0, 256])\n",
    "\n",
    "colors = [\"b\", \"g\", \"r\"]\n",
    "\n",
    "for i, c in enumerate(colors):\n",
    "    histo = cv.calcHist([image], [i], None, [255], [0, 256])\n",
    "    plt.plot(histo, color=c)\n",
    "    plt.xlim([0, 256])\n",
    "\n",
    "# plt.plot(hist)\n",
    "plt.title(\"histogram of the image\")\n",
    "plt.xlabel(\"bins\")\n",
    "plt.ylabel(\"intensity\")\n",
    "# plt.tight_layout()\n",
    "plt.show()\n",
    "\n",
    "# cv.imshow(\"Original Image\", image)\n",
    "cv.waitKey()\n",
    "cv.destroyAllWindows()"
   ]
  },
  {
   "cell_type": "code",
   "execution_count": 6,
   "metadata": {},
   "outputs": [],
   "source": [
    "image = cv.imread(\"./index.jpeg\")\n",
    "\n",
    "gray =  cv.cvtColor(image, cv.COLOR_BGR2GRAY)\n",
    "\n",
    "blur = cv.GaussianBlur(gray, (3,3), cv.BORDER_DEFAULT)\n",
    "\n",
    "edge = cv.Canny(blur, 180 ,170)\n",
    "\n",
    "dilated = cv.dilate(edge, (7, 9), iterations=4)\n",
    "eroded = cv.erode(dilated, (7, 2), iterations=1)\n",
    "\n",
    "cv.imshow(\"Original Image\",image)\n",
    "cv.imshow(\"Gray Image\",gray)\n",
    "cv.imshow(\"BLur Image\",blur)\n",
    "cv.imshow(\"edges Image\",edge)\n",
    "cv.imshow(\"dilate Image\", dilated)\n",
    "cv.imshow(\"eroded Image\", eroded)\n",
    "cv.waitKey()\n",
    "cv.destroyAllWindows()"
   ]
  },
  {
   "cell_type": "markdown",
   "metadata": {},
   "source": [
    "# Threshold party"
   ]
  },
  {
   "cell_type": "code",
   "execution_count": 7,
   "metadata": {},
   "outputs": [],
   "source": [
    "image = cv.imread(\"./cats_2.jpg\")\n",
    "image = cv.resize(image, (500, 500))\n",
    "gray = cv.cvtColor(image , cv.COLOR_BGR2GRAY)\n",
    "\n",
    "threshold, thresh_im = cv.threshold(gray, 150, 255, cv.THRESH_BINARY)\n",
    "threshold, thresh_im_inv  = cv.threshold(thresh_im, 150, 255, cv.THRESH_BINARY_INV)\n",
    "\n",
    "# Adaptive Threshold \n",
    "\n",
    "adaptive = cv.adaptiveThreshold(gray, 255, cv.ADAPTIVE_THRESH_MEAN_C, cv.THRESH_BINARY, 7, 2)\n",
    "\n",
    "cv.imshow(\"Threshold Image \",thresh_im_inv)\n",
    "cv.imshow(\"Adaptive thresh \",adaptive)\n",
    "cv.waitKey()\n",
    "cv.destroyAllWindows() \n"
   ]
  },
  {
   "cell_type": "markdown",
   "metadata": {},
   "source": [
    "# Edges detector and drawer"
   ]
  },
  {
   "cell_type": "code",
   "execution_count": 8,
   "metadata": {},
   "outputs": [],
   "source": [
    "image = cv.imread(\"./pet.jpg\")\n",
    "image = cv.resize(image, (350, 300))\n",
    "gray = cv.cvtColor(image, cv.COLOR_BGR2GRAY)\n",
    "cv.imshow(\"Gray Image\", gray)\n",
    "\n",
    "lab = cv.Laplacian(gray, cv.CV_16S)\n",
    "lab =  np.uint8(np.absolute(lab))\n",
    "\n",
    "\n",
    "sobelx = cv.Sobel(gray, cv.CV_64F, 0, 1)\n",
    "sobely = cv.Sobel(gray, cv.CV_64F, 1, 0)\n",
    "\n",
    "canny = cv.Canny(gray, 120, 150)\n",
    "\n",
    "cv.imshow(\"laplacian image\", lab)\n",
    "cv.imshow(\"Sobel X image\", sobelx)\n",
    "cv.imshow(\"Sobel Y image\", sobely)\n",
    "cv.imshow(\"Canny Image\", canny)\n",
    "cv.waitKey()\n",
    "cv.destroyAllWindows()"
   ]
  },
  {
   "cell_type": "code",
   "execution_count": 10,
   "metadata": {},
   "outputs": [
    {
     "name": "stdout",
     "output_type": "stream",
     "text": [
      "2\n"
     ]
    }
   ],
   "source": [
    "HAAR_FACE = cv.CascadeClassifier(\"./haar_faces.xml\")\n",
    "chris = cv.imread(\"./cat.jpg\")\n",
    "chris = cv.resize(chris, (900, 700))\n",
    "gray = cv.cvtColor(chris, cv.COLOR_BGR2GRAY)\n",
    "# cv.imshow(\"Person Original Image\", chris)\n",
    "# cv.imshow(\"Person Gray Image\", gray)\n",
    "\n",
    "faces_rect = HAAR_FACE.detectMultiScale(gray, scaleFactor = 1.1, minNeighbors=2)\n",
    "\n",
    "for (x,y, w, h) in faces_rect:\n",
    "    cv.rectangle(chris, (x, y), (x+w, y+h), (29, 90, 250), thickness = 2)\n",
    "\n",
    "\n",
    "cv.imshow(\"Detected Faces\", chris)\n",
    "\n",
    "print(len(faces_rect))\n",
    "cv.waitKey()\n",
    "cv.destroyAllWindows()"
   ]
  },
  {
   "cell_type": "code",
   "execution_count": 11,
   "metadata": {},
   "outputs": [],
   "source": [
    "live = cv.VideoCapture(0)\n",
    "live.set(3, 950)\n",
    "live.set(4, 750)\n",
    "HAAR_FACE = cv.CascadeClassifier(\"./data/haarcascade_frontalface_alt2.xml\")\n",
    "\n",
    "\n",
    "while True:\n",
    "    isTrue, frame = live.read()\n",
    "    gray = cv.cvtColor(frame, cv.COLOR_BGR2GRAY)\n",
    "    frames = HAAR_FACE.detectMultiScale(gray, scaleFactor = 1.1, minNeighbors=2)\n",
    "    for (x,y, w, h) in frames:\n",
    "        cv.rectangle(frame, (x, y), (x+w, y+h), (29, 90, 250), thickness = 2)\n",
    "        roi = gray[y:h+y, x:x+w]\n",
    "        roi_c = frame[y:h+y, x:x+w]\n",
    "        cv.imwrite(\"./chris_face.png\", roi)\n",
    "        cv.imwrite(\"./chris_face_colored.png\", roi_c)\n",
    "\n",
    "    cv.imshow(\"live Video detected faces \", frame)\n",
    "    if cv.waitKey(20) & 0xFF==ord('q'):\n",
    "        break\n",
    "\n",
    "live.release()\n",
    "cv.destroyAllWindows()"
   ]
  },
  {
   "cell_type": "code",
   "execution_count": 12,
   "metadata": {},
   "outputs": [
    {
     "name": "stdout",
     "output_type": "stream",
     "text": [
      "l of features 82\n",
      "l of labels 82\n"
     ]
    }
   ],
   "source": [
    "path = \"./persons\"\n",
    "\n",
    "X_train = []\n",
    "y_train = []\n",
    "HAAR_FACE = cv.CascadeClassifier(\"./data/haarcascade_frontalface_alt2.xml\")\n",
    "\n",
    "\n",
    "peoples= ['TonyStark', 'chrisKid', 'elonMusk']\n",
    "\n",
    "for person in peoples:\n",
    "    path = os.path.join(\"./persons\", person)\n",
    "    labels  = peoples.index(person)\n",
    "    for image in os.listdir(path):\n",
    "        img = os.path.join(path, image)\n",
    "        img_array = cv.imread(img)\n",
    "        gray = cv.cvtColor(img_array, cv.COLOR_BGR2GRAY)\n",
    "        face = HAAR_FACE.detectMultiScale(gray, scaleFactor = 1.1, minNeighbors=2)\n",
    "        for x, y, w, h in face :\n",
    "            cv.rectangle(face, (x, y), (x+w, y+h), (29, 90, 250), thickness = 2)\n",
    "            roi = gray[y:h+y, x:x+w]\n",
    "            X_train.append(roi)\n",
    "            y_train.append(labels)\n",
    "\n",
    "print(\"l of features\", len(X_train)) \n",
    "print(\"l of labels\", len(y_train)) "
   ]
  },
  {
   "cell_type": "code",
   "execution_count": 13,
   "metadata": {},
   "outputs": [],
   "source": [
    "warnings.filterwarnings(\"ignore\")\n",
    "\n",
    "features = np.array(X_train, dtype=\"object\")\n",
    "labels = np.array(y_train)\n",
    "face_recognizer = cv.face.LBPHFaceRecognizer_create()\n",
    "face_recognizer.train(features, labels)\n",
    "\n",
    "face_recognizer.save(\"recognizer.yml\")\n",
    "\n",
    "np.save(\"features.npy\", X_train)\n",
    "np.save(\"label.npy\", y_train)"
   ]
  },
  {
   "cell_type": "markdown",
   "metadata": {},
   "source": [
    "# Face recognation"
   ]
  },
  {
   "cell_type": "code",
   "execution_count": null,
   "metadata": {},
   "outputs": [],
   "source": [
    "\n",
    "# features, labels = np.load(\"features.npy\"), np.load(\"label.npy\")\n",
    "HAAR_FACE = cv.CascadeClassifier(\"./data/haarcascade_frontalface_alt2.xml\")\n",
    "\n",
    "face_recognizer = cv.face.LBPHFaceRecognizer_create()\n",
    "face_recognizer.read(\"recognizer.yml\")\n",
    "\n",
    "val_img = \"./persons/chrisVal/IMG_20210301_091205_365.jpg\"\n",
    "\n",
    "\n",
    "peoples= ['TonyStark', 'chrisKid', 'elonMusk']\n",
    "image = cv.imread(val_img)\n",
    "image = cv.resize(image, (550, 400))\n",
    "gray = cv.cvtColor(image, cv.COLOR_BGR2GRAY)\n",
    "\n",
    "cv.imshow(\"Validation person\", gray)\n",
    "\n",
    "\n",
    "face = HAAR_FACE.detectMultiScale(gray, scaleFactor = 1.1, minNeighbors=2)\n",
    "for x, y, w, h in face:\n",
    "    roi = gray[y:h+y, x:x+w]\n",
    "    label, confidence = face_recognizer.predict(roi)\n",
    "    cv.putText(image, \"chris\", (5,5), cv.FONT_HERSHEY_SCRIPT_COMPLEX, 1.0, (255,0, 1), 1)\n",
    "    cv.rectangle(image, (x, y), (x+w, y+h), (29, 90, 250), thickness = 2)\n",
    "\n",
    "    print(f\"Person : {peoples[label]}---> {confidence}\")\n",
    "\n",
    "cv.imshow(\"detected face\", image)\n",
    "cv.waitKey()\n",
    "cv.destroyAllWindows()"
   ]
  }
 ],
 "metadata": {
  "interpreter": {
   "hash": "61f16b98c194273433d28da8ad4eebd31a866a26d2fd43b3ba83f196243e57b5"
  },
  "kernelspec": {
   "display_name": "Python 3.8.8 64-bit ('base': conda)",
   "name": "python3"
  },
  "language_info": {
   "codemirror_mode": {
    "name": "ipython",
    "version": 3
   },
   "file_extension": ".py",
   "mimetype": "text/x-python",
   "name": "python",
   "nbconvert_exporter": "python",
   "pygments_lexer": "ipython3",
   "version": "3.8.8"
  },
  "orig_nbformat": 4
 },
 "nbformat": 4,
 "nbformat_minor": 2
}